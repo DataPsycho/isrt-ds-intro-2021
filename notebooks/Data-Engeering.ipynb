{
 "cells": [
  {
   "cell_type": "markdown",
   "id": "c2b25383-a64f-46d2-9774-b453dbb203bf",
   "metadata": {},
   "source": [
    "# Acquire the Raw Data"
   ]
  },
  {
   "cell_type": "code",
   "execution_count": 24,
   "id": "3fdc2306-bfb2-45f8-8b3f-d9c3309abb1e",
   "metadata": {},
   "outputs": [],
   "source": [
    "import pandas_datareader.data as web\n",
    "import datetime\n",
    "from pathlib import Path\n",
    "import pandas as pd\n",
    "import json"
   ]
  },
  {
   "cell_type": "code",
   "execution_count": 25,
   "id": "ff03c80c-dda7-433d-91bf-5d309926f39f",
   "metadata": {},
   "outputs": [],
   "source": [
    "def acquire_training_data():\n",
    "    start = datetime.datetime(2019, 7, 1)\n",
    "    end = datetime.datetime(2019, 9, 30)\n",
    "    df = web.DataReader(\"BTC-USD\", 'yahoo', start, end)\n",
    "    return df"
   ]
  },
  {
   "cell_type": "code",
   "execution_count": 39,
   "id": "1e2d7e67-b7c6-40b1-96b6-511ef93bbe3d",
   "metadata": {},
   "outputs": [],
   "source": [
    "data = acquire_training_data()\n"
   ]
  },
  {
   "cell_type": "code",
   "execution_count": 40,
   "id": "a80227a5-75b6-472e-b9a4-b5c8b737db8d",
   "metadata": {},
   "outputs": [
    {
     "data": {
      "text/html": [
       "<div>\n",
       "<style scoped>\n",
       "    .dataframe tbody tr th:only-of-type {\n",
       "        vertical-align: middle;\n",
       "    }\n",
       "\n",
       "    .dataframe tbody tr th {\n",
       "        vertical-align: top;\n",
       "    }\n",
       "\n",
       "    .dataframe thead th {\n",
       "        text-align: right;\n",
       "    }\n",
       "</style>\n",
       "<table border=\"1\" class=\"dataframe\">\n",
       "  <thead>\n",
       "    <tr style=\"text-align: right;\">\n",
       "      <th></th>\n",
       "      <th>High</th>\n",
       "      <th>Low</th>\n",
       "      <th>Open</th>\n",
       "      <th>Close</th>\n",
       "      <th>Volume</th>\n",
       "      <th>Adj Close</th>\n",
       "    </tr>\n",
       "    <tr>\n",
       "      <th>Date</th>\n",
       "      <th></th>\n",
       "      <th></th>\n",
       "      <th></th>\n",
       "      <th></th>\n",
       "      <th></th>\n",
       "      <th></th>\n",
       "    </tr>\n",
       "  </thead>\n",
       "  <tbody>\n",
       "    <tr>\n",
       "      <th>2019-07-01</th>\n",
       "      <td>11206.439453</td>\n",
       "      <td>10089.314453</td>\n",
       "      <td>10796.930664</td>\n",
       "      <td>10583.134766</td>\n",
       "      <td>29378589324</td>\n",
       "      <td>10583.134766</td>\n",
       "    </tr>\n",
       "    <tr>\n",
       "      <th>2019-07-02</th>\n",
       "      <td>10912.188477</td>\n",
       "      <td>9737.884766</td>\n",
       "      <td>10588.683594</td>\n",
       "      <td>10801.677734</td>\n",
       "      <td>31015895223</td>\n",
       "      <td>10801.677734</td>\n",
       "    </tr>\n",
       "    <tr>\n",
       "      <th>2019-07-03</th>\n",
       "      <td>11968.078125</td>\n",
       "      <td>10818.156250</td>\n",
       "      <td>10818.156250</td>\n",
       "      <td>11961.269531</td>\n",
       "      <td>30796494294</td>\n",
       "      <td>11961.269531</td>\n",
       "    </tr>\n",
       "    <tr>\n",
       "      <th>2019-07-04</th>\n",
       "      <td>12006.075195</td>\n",
       "      <td>11166.569336</td>\n",
       "      <td>11972.718750</td>\n",
       "      <td>11215.437500</td>\n",
       "      <td>25920294033</td>\n",
       "      <td>11215.437500</td>\n",
       "    </tr>\n",
       "    <tr>\n",
       "      <th>2019-07-05</th>\n",
       "      <td>11395.661133</td>\n",
       "      <td>10874.964844</td>\n",
       "      <td>11203.102539</td>\n",
       "      <td>10978.459961</td>\n",
       "      <td>23838480210</td>\n",
       "      <td>10978.459961</td>\n",
       "    </tr>\n",
       "  </tbody>\n",
       "</table>\n",
       "</div>"
      ],
      "text/plain": [
       "                    High           Low          Open         Close  \\\n",
       "Date                                                                 \n",
       "2019-07-01  11206.439453  10089.314453  10796.930664  10583.134766   \n",
       "2019-07-02  10912.188477   9737.884766  10588.683594  10801.677734   \n",
       "2019-07-03  11968.078125  10818.156250  10818.156250  11961.269531   \n",
       "2019-07-04  12006.075195  11166.569336  11972.718750  11215.437500   \n",
       "2019-07-05  11395.661133  10874.964844  11203.102539  10978.459961   \n",
       "\n",
       "                 Volume     Adj Close  \n",
       "Date                                   \n",
       "2019-07-01  29378589324  10583.134766  \n",
       "2019-07-02  31015895223  10801.677734  \n",
       "2019-07-03  30796494294  11961.269531  \n",
       "2019-07-04  25920294033  11215.437500  \n",
       "2019-07-05  23838480210  10978.459961  "
      ]
     },
     "execution_count": 40,
     "metadata": {},
     "output_type": "execute_result"
    }
   ],
   "source": [
    "data.head()"
   ]
  },
  {
   "cell_type": "code",
   "execution_count": 28,
   "id": "f0367bcb-f44f-4176-94d9-50c42cdd7951",
   "metadata": {},
   "outputs": [],
   "source": [
    "def write_data_to_lake(df, path):\n",
    "    json_data = df.to_json(orient=\"records\")\n",
    "    with open(path, 'w+') as f:\n",
    "        json.dump(json_data, f, indent=4)"
   ]
  },
  {
   "cell_type": "code",
   "execution_count": 30,
   "id": "2d2eaa57-782e-44d8-9f82-dc729c6d1e85",
   "metadata": {},
   "outputs": [],
   "source": [
    "WRITE_PATH = Path().resolve().parent\n",
    "WRITE_PATH = WRITE_PATH.joinpath(\"datalake\", \"2019-07-01.json\")"
   ]
  },
  {
   "cell_type": "code",
   "execution_count": 31,
   "id": "6fa5687f-edaa-4c95-bdeb-1b2bb99ae323",
   "metadata": {},
   "outputs": [],
   "source": [
    "write_data_to_lake(data, WRITE_PATH)"
   ]
  },
  {
   "cell_type": "markdown",
   "id": "0a2da27f-1676-490a-ad69-e9752e8dc722",
   "metadata": {},
   "source": [
    "# Send Data into Accessable Data Storage"
   ]
  },
  {
   "cell_type": "code",
   "execution_count": 32,
   "id": "6705ead5-31c1-42c5-8e37-4dab0ff380bd",
   "metadata": {},
   "outputs": [],
   "source": [
    "import sqlite3 as db"
   ]
  },
  {
   "cell_type": "code",
   "execution_count": 33,
   "id": "37eb251d-b71b-4c4d-bc1a-18f73fb70ba9",
   "metadata": {},
   "outputs": [],
   "source": [
    "URI = Path().resolve().parent\n",
    "URI = URI.joinpath(\"db\", \"index.db\")"
   ]
  },
  {
   "cell_type": "code",
   "execution_count": 35,
   "id": "195dffbe-b46c-42b9-8e81-22a1bfe0db72",
   "metadata": {},
   "outputs": [],
   "source": [
    "def write_to_db(df, uri):\n",
    "    conn = db.connect(uri)\n",
    "    column_schema = [col.replace(\" \", \"_\").lower() for col in df.columns]\n",
    "    df.columns = column_schema\n",
    "    df.to_sql(name='Sample', con=conn, if_exists='replace', index=False)\n",
    "    conn.close()"
   ]
  },
  {
   "cell_type": "code",
   "execution_count": 36,
   "id": "3b133caf-bea3-4be6-abc2-edcda4d08533",
   "metadata": {},
   "outputs": [],
   "source": [
    "write_to_db(data, URI)"
   ]
  }
 ],
 "metadata": {
  "kernelspec": {
   "display_name": "Python 3 (ipykernel)",
   "language": "python",
   "name": "python3"
  },
  "language_info": {
   "codemirror_mode": {
    "name": "ipython",
    "version": 3
   },
   "file_extension": ".py",
   "mimetype": "text/x-python",
   "name": "python",
   "nbconvert_exporter": "python",
   "pygments_lexer": "ipython3",
   "version": "3.9.0"
  }
 },
 "nbformat": 4,
 "nbformat_minor": 5
}
