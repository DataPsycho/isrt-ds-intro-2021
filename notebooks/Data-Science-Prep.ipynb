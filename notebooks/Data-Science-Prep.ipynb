{
 "cells": [
  {
   "cell_type": "markdown",
   "id": "b2dca415-2277-45a2-90fd-c17e1809d00a",
   "metadata": {},
   "source": [
    "# Data Pre Processing by Scientist"
   ]
  },
  {
   "cell_type": "code",
   "execution_count": 22,
   "id": "af4f5cf1-8f86-487f-b982-902329a0c873",
   "metadata": {},
   "outputs": [],
   "source": [
    "import sqlite3 as db\n",
    "import numpy as np\n",
    "from pathlib import Path\n",
    "import pandas as pd"
   ]
  },
  {
   "cell_type": "code",
   "execution_count": 28,
   "id": "f461ca67-76ed-4ed4-9ad4-57aec3e09f8e",
   "metadata": {},
   "outputs": [],
   "source": [
    "def read_to_data_frame(uri):\n",
    "    conn = db.connect(uri)\n",
    "    try:\n",
    "        df = pd.read_sql(\"select * from Sample\", conn)\n",
    "        return df\n",
    "    except:\n",
    "        raise Exception(\"Could not execute the query\")\n",
    "    finally:\n",
    "        conn.close()"
   ]
  },
  {
   "cell_type": "code",
   "execution_count": 29,
   "id": "6f5db4ee-e789-4c75-b236-f015c5fbad47",
   "metadata": {},
   "outputs": [],
   "source": [
    "URI = Path().resolve().parent\n",
    "URI = URI.joinpath(\"db\", \"index.db\")"
   ]
  },
  {
   "cell_type": "code",
   "execution_count": 30,
   "id": "757033ba-c8dc-4875-9938-11f9b93c9baa",
   "metadata": {},
   "outputs": [],
   "source": [
    "raw_data = read_to_data_frame(URI)"
   ]
  },
  {
   "cell_type": "code",
   "execution_count": 31,
   "id": "88d1becb-40bf-4cbe-8b5f-8829b076acaa",
   "metadata": {},
   "outputs": [
    {
     "data": {
      "text/html": [
       "<div>\n",
       "<style scoped>\n",
       "    .dataframe tbody tr th:only-of-type {\n",
       "        vertical-align: middle;\n",
       "    }\n",
       "\n",
       "    .dataframe tbody tr th {\n",
       "        vertical-align: top;\n",
       "    }\n",
       "\n",
       "    .dataframe thead th {\n",
       "        text-align: right;\n",
       "    }\n",
       "</style>\n",
       "<table border=\"1\" class=\"dataframe\">\n",
       "  <thead>\n",
       "    <tr style=\"text-align: right;\">\n",
       "      <th></th>\n",
       "      <th>high</th>\n",
       "      <th>low</th>\n",
       "      <th>open</th>\n",
       "      <th>close</th>\n",
       "      <th>volume</th>\n",
       "      <th>adj_close</th>\n",
       "    </tr>\n",
       "  </thead>\n",
       "  <tbody>\n",
       "    <tr>\n",
       "      <th>0</th>\n",
       "      <td>11206.439453</td>\n",
       "      <td>10089.314453</td>\n",
       "      <td>10796.930664</td>\n",
       "      <td>10583.134766</td>\n",
       "      <td>29378589324</td>\n",
       "      <td>10583.134766</td>\n",
       "    </tr>\n",
       "    <tr>\n",
       "      <th>1</th>\n",
       "      <td>10912.188477</td>\n",
       "      <td>9737.884766</td>\n",
       "      <td>10588.683594</td>\n",
       "      <td>10801.677734</td>\n",
       "      <td>31015895223</td>\n",
       "      <td>10801.677734</td>\n",
       "    </tr>\n",
       "    <tr>\n",
       "      <th>2</th>\n",
       "      <td>11968.078125</td>\n",
       "      <td>10818.156250</td>\n",
       "      <td>10818.156250</td>\n",
       "      <td>11961.269531</td>\n",
       "      <td>30796494294</td>\n",
       "      <td>11961.269531</td>\n",
       "    </tr>\n",
       "    <tr>\n",
       "      <th>3</th>\n",
       "      <td>12006.075195</td>\n",
       "      <td>11166.569336</td>\n",
       "      <td>11972.718750</td>\n",
       "      <td>11215.437500</td>\n",
       "      <td>25920294033</td>\n",
       "      <td>11215.437500</td>\n",
       "    </tr>\n",
       "    <tr>\n",
       "      <th>4</th>\n",
       "      <td>11395.661133</td>\n",
       "      <td>10874.964844</td>\n",
       "      <td>11203.102539</td>\n",
       "      <td>10978.459961</td>\n",
       "      <td>23838480210</td>\n",
       "      <td>10978.459961</td>\n",
       "    </tr>\n",
       "  </tbody>\n",
       "</table>\n",
       "</div>"
      ],
      "text/plain": [
       "           high           low          open         close       volume  \\\n",
       "0  11206.439453  10089.314453  10796.930664  10583.134766  29378589324   \n",
       "1  10912.188477   9737.884766  10588.683594  10801.677734  31015895223   \n",
       "2  11968.078125  10818.156250  10818.156250  11961.269531  30796494294   \n",
       "3  12006.075195  11166.569336  11972.718750  11215.437500  25920294033   \n",
       "4  11395.661133  10874.964844  11203.102539  10978.459961  23838480210   \n",
       "\n",
       "      adj_close  \n",
       "0  10583.134766  \n",
       "1  10801.677734  \n",
       "2  11961.269531  \n",
       "3  11215.437500  \n",
       "4  10978.459961  "
      ]
     },
     "execution_count": 31,
     "metadata": {},
     "output_type": "execute_result"
    }
   ],
   "source": [
    "raw_data.head()"
   ]
  },
  {
   "cell_type": "markdown",
   "id": "36bc32d4-5bef-4077-b5f1-9beefed0d4e7",
   "metadata": {},
   "source": [
    "# Preprocessing"
   ]
  },
  {
   "cell_type": "code",
   "execution_count": 32,
   "id": "691a7605-8d04-4132-89cf-9ec6000c5078",
   "metadata": {},
   "outputs": [],
   "source": [
    "def digitize(n):\n",
    "    if n > 0:\n",
    "        return 1\n",
    "    return 0"
   ]
  },
  {
   "cell_type": "code",
   "execution_count": 35,
   "id": "be60e18a-d84a-4274-8cf6-170a0570e110",
   "metadata": {},
   "outputs": [],
   "source": [
    "def rolling_window(a, window):\n",
    "    shape = a.shape[:-1] + (a.shape[-1] - window + 1, window)\n",
    "    strides = a.strides + (a.strides[-1],)\n",
    "    return np.lib.stride_tricks.as_strided(a,shape=shape, strides=strides)\n",
    "\n",
    "def prepare_training_data(data):\n",
    "    data['delta'] = data['close'] - data['open']\n",
    "    data['to_predict'] = data['delta'].apply(lambda d:\n",
    "    digitize(d))\n",
    "    return data"
   ]
  },
  {
   "cell_type": "code",
   "execution_count": 36,
   "id": "5952c3a8-4641-41b8-b7db-aa6cec56504d",
   "metadata": {},
   "outputs": [],
   "source": [
    "prepared_training_data_df = prepare_training_data(raw_data)"
   ]
  },
  {
   "cell_type": "code",
   "execution_count": 37,
   "id": "3bfc1d93-7756-4993-bc1c-f1f555f0beea",
   "metadata": {},
   "outputs": [
    {
     "data": {
      "text/html": [
       "<div>\n",
       "<style scoped>\n",
       "    .dataframe tbody tr th:only-of-type {\n",
       "        vertical-align: middle;\n",
       "    }\n",
       "\n",
       "    .dataframe tbody tr th {\n",
       "        vertical-align: top;\n",
       "    }\n",
       "\n",
       "    .dataframe thead th {\n",
       "        text-align: right;\n",
       "    }\n",
       "</style>\n",
       "<table border=\"1\" class=\"dataframe\">\n",
       "  <thead>\n",
       "    <tr style=\"text-align: right;\">\n",
       "      <th></th>\n",
       "      <th>high</th>\n",
       "      <th>low</th>\n",
       "      <th>open</th>\n",
       "      <th>close</th>\n",
       "      <th>volume</th>\n",
       "      <th>adj_close</th>\n",
       "      <th>delta</th>\n",
       "      <th>to_predict</th>\n",
       "    </tr>\n",
       "  </thead>\n",
       "  <tbody>\n",
       "    <tr>\n",
       "      <th>0</th>\n",
       "      <td>11206.439453</td>\n",
       "      <td>10089.314453</td>\n",
       "      <td>10796.930664</td>\n",
       "      <td>10583.134766</td>\n",
       "      <td>29378589324</td>\n",
       "      <td>10583.134766</td>\n",
       "      <td>-213.795898</td>\n",
       "      <td>0</td>\n",
       "    </tr>\n",
       "    <tr>\n",
       "      <th>1</th>\n",
       "      <td>10912.188477</td>\n",
       "      <td>9737.884766</td>\n",
       "      <td>10588.683594</td>\n",
       "      <td>10801.677734</td>\n",
       "      <td>31015895223</td>\n",
       "      <td>10801.677734</td>\n",
       "      <td>212.994141</td>\n",
       "      <td>1</td>\n",
       "    </tr>\n",
       "    <tr>\n",
       "      <th>2</th>\n",
       "      <td>11968.078125</td>\n",
       "      <td>10818.156250</td>\n",
       "      <td>10818.156250</td>\n",
       "      <td>11961.269531</td>\n",
       "      <td>30796494294</td>\n",
       "      <td>11961.269531</td>\n",
       "      <td>1143.113281</td>\n",
       "      <td>1</td>\n",
       "    </tr>\n",
       "    <tr>\n",
       "      <th>3</th>\n",
       "      <td>12006.075195</td>\n",
       "      <td>11166.569336</td>\n",
       "      <td>11972.718750</td>\n",
       "      <td>11215.437500</td>\n",
       "      <td>25920294033</td>\n",
       "      <td>11215.437500</td>\n",
       "      <td>-757.281250</td>\n",
       "      <td>0</td>\n",
       "    </tr>\n",
       "    <tr>\n",
       "      <th>4</th>\n",
       "      <td>11395.661133</td>\n",
       "      <td>10874.964844</td>\n",
       "      <td>11203.102539</td>\n",
       "      <td>10978.459961</td>\n",
       "      <td>23838480210</td>\n",
       "      <td>10978.459961</td>\n",
       "      <td>-224.642578</td>\n",
       "      <td>0</td>\n",
       "    </tr>\n",
       "  </tbody>\n",
       "</table>\n",
       "</div>"
      ],
      "text/plain": [
       "           high           low          open         close       volume  \\\n",
       "0  11206.439453  10089.314453  10796.930664  10583.134766  29378589324   \n",
       "1  10912.188477   9737.884766  10588.683594  10801.677734  31015895223   \n",
       "2  11968.078125  10818.156250  10818.156250  11961.269531  30796494294   \n",
       "3  12006.075195  11166.569336  11972.718750  11215.437500  25920294033   \n",
       "4  11395.661133  10874.964844  11203.102539  10978.459961  23838480210   \n",
       "\n",
       "      adj_close        delta  to_predict  \n",
       "0  10583.134766  -213.795898           0  \n",
       "1  10801.677734   212.994141           1  \n",
       "2  11961.269531  1143.113281           1  \n",
       "3  11215.437500  -757.281250           0  \n",
       "4  10978.459961  -224.642578           0  "
      ]
     },
     "execution_count": 37,
     "metadata": {},
     "output_type": "execute_result"
    }
   ],
   "source": [
    "prepared_training_data_df.head()"
   ]
  },
  {
   "cell_type": "code",
   "execution_count": 39,
   "id": "6893b042-9763-41f7-80d0-6a913b4d607d",
   "metadata": {},
   "outputs": [],
   "source": [
    "btc_mat = prepared_training_data_df.to_numpy()\n",
    "WINDOW_SIZE = 14\n",
    "\n",
    "X = rolling_window(btc_mat[:, 7], WINDOW_SIZE)[:-1, :]\n",
    "\n",
    "Y = prepared_training_data_df['to_predict'].to_numpy()[WINDOW_SIZE:]"
   ]
  },
  {
   "cell_type": "code",
   "execution_count": 40,
   "id": "3eab6b85-4c05-42ad-a10f-31fbe05acff5",
   "metadata": {},
   "outputs": [
    {
     "data": {
      "text/plain": [
       "array([[0., 1., 1., ..., 1., 0., 0.],\n",
       "       [1., 1., 0., ..., 0., 0., 1.],\n",
       "       [1., 0., 0., ..., 0., 1., 0.],\n",
       "       ...,\n",
       "       [0., 0., 0., ..., 0., 1., 0.],\n",
       "       [0., 0., 0., ..., 1., 0., 0.],\n",
       "       [0., 0., 1., ..., 0., 0., 1.]])"
      ]
     },
     "execution_count": 40,
     "metadata": {},
     "output_type": "execute_result"
    }
   ],
   "source": [
    "X"
   ]
  },
  {
   "cell_type": "code",
   "execution_count": 41,
   "id": "94c8a680-00cf-4198-9cf5-0638b88d16b8",
   "metadata": {},
   "outputs": [
    {
     "data": {
      "text/plain": [
       "array([1, 0, 1, 1, 0, 1, 0, 0, 0, 0, 1, 0, 0, 1, 0, 1, 1, 1, 1, 1, 1, 1,\n",
       "       0, 1, 1, 0, 0, 1, 0, 0, 0, 1, 1, 0, 1, 1, 0, 0, 0, 1, 0, 0, 1, 0,\n",
       "       0, 0, 1, 1, 1, 1, 1, 0, 0, 0, 1, 0, 0, 0, 1, 1, 0, 1, 0, 0, 0, 0,\n",
       "       1, 0, 0, 1, 0, 0, 0, 0, 1, 0, 0, 1, 1])"
      ]
     },
     "execution_count": 41,
     "metadata": {},
     "output_type": "execute_result"
    }
   ],
   "source": [
    "Y"
   ]
  },
  {
   "cell_type": "markdown",
   "id": "a3c109ee-64fc-4653-9f43-354eb2b5c672",
   "metadata": {},
   "source": [
    "# Training with ML Flow"
   ]
  },
  {
   "cell_type": "code",
   "execution_count": 49,
   "id": "73486d9e-e4c0-41bf-b594-e1ecfca27bbe",
   "metadata": {},
   "outputs": [],
   "source": [
    "from sklearn.model_selection import train_test_split\n",
    "from sklearn.ensemble import RandomForestClassifier\n",
    "from sklearn.metrics import classification_report\n",
    "from sklearn.metrics import precision_score\n",
    "from sklearn.metrics import recall_score\n",
    "from sklearn.metrics import f1_score\n",
    "import mlflow.sklearn\n",
    "import mlflow"
   ]
  },
  {
   "cell_type": "code",
   "execution_count": 53,
   "id": "17b8ae6e-9141-4f1f-bc6f-7f340964f453",
   "metadata": {},
   "outputs": [],
   "source": [
    "with mlflow.start_run():\n",
    "    X_train, X_test, y_train, y_test = train_test_split(\n",
    "        X, Y, test_size=0.25, random_state=4284, stratify=Y\n",
    "    )\n",
    "\n",
    "    clf = RandomForestClassifier(\n",
    "        bootstrap=True, criterion='gini', min_samples_split=2, \n",
    "        min_weight_fraction_leaf=0.0, n_estimators=50, random_state=4284, \n",
    "        verbose=0\n",
    "    )\n",
    "\n",
    "    clf.fit(X_train, y_train)\n",
    "    predicted = clf.predict(X_test)\n",
    "    mlflow.sklearn.log_model(clf, \"model_random_forest\")\n",
    "    mlflow.log_metric(\"precision_label_0\", precision_score(y_test, predicted, pos_label=0))\n",
    "    mlflow.log_metric(\"recall_label_0\", recall_score(y_test, predicted, pos_label=0))\n",
    "    mlflow.log_metric(\"f1score_label_0\", f1_score(y_test,predicted, pos_label=0))\n",
    "    mlflow.log_metric(\"precision_label_1\", precision_score(y_test, predicted, pos_label=1))\n",
    "    mlflow.log_metric(\"recall_label_1\", recall_score(y_test, predicted, pos_label=1))\n",
    "    mlflow.log_metric(\"f1score_label_1\", f1_score(y_test,predicted, pos_label=1))"
   ]
  },
  {
   "cell_type": "code",
   "execution_count": 54,
   "id": "25d502ef-97d3-487c-8ab6-60e7d2f71d30",
   "metadata": {},
   "outputs": [],
   "source": [
    "from sklearn.linear_model import LogisticRegression"
   ]
  },
  {
   "cell_type": "code",
   "execution_count": 55,
   "id": "96499f64-c1ef-49b8-9d76-4aefba363c97",
   "metadata": {},
   "outputs": [],
   "source": [
    "with mlflow.start_run():\n",
    "    X_train, X_test, y_train, y_test = train_test_split(\n",
    "        X, Y, test_size=0.25, random_state=4284, stratify=Y\n",
    "    )\n",
    "\n",
    "    clf = LogisticRegression(random_state=4284, verbose=0)\n",
    "\n",
    "    clf.fit(X_train, y_train)\n",
    "    predicted = clf.predict(X_test)\n",
    "    mlflow.sklearn.log_model(clf, \"model_logistic\")\n",
    "    mlflow.log_metric(\"precision_label_0\", precision_score(y_test, predicted, pos_label=0))\n",
    "    mlflow.log_metric(\"recall_label_0\", recall_score(y_test, predicted, pos_label=0))\n",
    "    mlflow.log_metric(\"f1score_label_0\", f1_score(y_test,predicted, pos_label=0))\n",
    "    mlflow.log_metric(\"precision_label_1\", precision_score(y_test, predicted, pos_label=1))\n",
    "    mlflow.log_metric(\"recall_label_1\", recall_score(y_test, predicted, pos_label=1))\n",
    "    mlflow.log_metric(\"f1score_label_1\", f1_score(y_test,predicted, pos_label=1))"
   ]
  },
  {
   "cell_type": "code",
   "execution_count": 56,
   "id": "da752f06-798c-4a7a-9654-9677766742e5",
   "metadata": {},
   "outputs": [],
   "source": [
    "from sklearn import svm"
   ]
  },
  {
   "cell_type": "code",
   "execution_count": 57,
   "id": "709ef890-3d79-4a0e-ad97-d23a79197c9a",
   "metadata": {},
   "outputs": [],
   "source": [
    "with mlflow.start_run():\n",
    "    X_train, X_test, y_train, y_test = train_test_split(\n",
    "        X, Y, test_size=0.25, random_state=4284, stratify=Y\n",
    "    )\n",
    "\n",
    "    clf = svm.SVC(random_state=4284, verbose=0)\n",
    "\n",
    "    clf.fit(X_train, y_train)\n",
    "    predicted = clf.predict(X_test)\n",
    "    mlflow.sklearn.log_model(clf, \"model_svm\")\n",
    "    mlflow.log_metric(\"precision_label_0\", precision_score(y_test, predicted, pos_label=0))\n",
    "    mlflow.log_metric(\"recall_label_0\", recall_score(y_test, predicted, pos_label=0))\n",
    "    mlflow.log_metric(\"f1score_label_0\", f1_score(y_test,predicted, pos_label=0))\n",
    "    mlflow.log_metric(\"precision_label_1\", precision_score(y_test, predicted, pos_label=1))\n",
    "    mlflow.log_metric(\"recall_label_1\", recall_score(y_test, predicted, pos_label=1))\n",
    "    mlflow.log_metric(\"f1score_label_1\", f1_score(y_test,predicted, pos_label=1))"
   ]
  }
 ],
 "metadata": {
  "kernelspec": {
   "display_name": "Python 3 (ipykernel)",
   "language": "python",
   "name": "python3"
  },
  "language_info": {
   "codemirror_mode": {
    "name": "ipython",
    "version": 3
   },
   "file_extension": ".py",
   "mimetype": "text/x-python",
   "name": "python",
   "nbconvert_exporter": "python",
   "pygments_lexer": "ipython3",
   "version": "3.9.0"
  }
 },
 "nbformat": 4,
 "nbformat_minor": 5
}
